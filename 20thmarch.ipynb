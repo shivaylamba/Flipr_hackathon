{
 "cells": [
  {
   "cell_type": "markdown",
   "metadata": {},
   "source": [
    "# 1. Dependencies"
   ]
  },
  {
   "cell_type": "code",
   "execution_count": 234,
   "metadata": {},
   "outputs": [],
   "source": [
    "import torch\n",
    "import pandas as pd\n",
    "import numpy as np\n",
    "import matplotlib.pyplot as plt\n",
    "import missingno as msno\n",
    "import seaborn as sns\n",
    "import category_encoders as ce\n",
    "from keras.layers import *\n",
    "from keras.applications import *\n",
    "from keras.models import *\n",
    "from keras.utils import *\n",
    "import keras.metrics as metrics"
   ]
  },
  {
   "cell_type": "markdown",
   "metadata": {},
   "source": [
    "# 2. Data Preprocessing and Pipeline "
   ]
  },
  {
   "cell_type": "code",
   "execution_count": 235,
   "metadata": {},
   "outputs": [],
   "source": [
    "# reading  and analyzing the data files\n",
    "train = pd.read_excel(\"Train_dataset.xlsx\")\n",
    "test = pd.read_excel(\"Test_dataset.xlsx\")"
   ]
  },
  {
   "cell_type": "markdown",
   "metadata": {},
   "source": [
    "## 2.1 Cleaning the data (Removing the redundant/irrelevant variable)"
   ]
  },
  {
   "cell_type": "code",
   "execution_count": 236,
   "metadata": {},
   "outputs": [
    {
     "data": {
      "text/plain": [
       "'People_Id, Name does not determine(or might be but its rarest) Infect_prod, Designation and Gender are same '"
      ]
     },
     "execution_count": 236,
     "metadata": {},
     "output_type": "execute_result"
    }
   ],
   "source": [
    "'''People_Id, Name does not determine(or might be but its rarest) Infect_prod, Designation and Gender are same '''"
   ]
  },
  {
   "cell_type": "code",
   "execution_count": 237,
   "metadata": {},
   "outputs": [],
   "source": [
    "train_df = train_df.drop(columns=['Name', 'Designation', 'people_ID'], axis=1);\n",
    "test_df = test_df.drop(columns=['Name', 'Designation', 'people_ID'], axis=1)"
   ]
  },
  {
   "cell_type": "code",
   "execution_count": 238,
   "metadata": {},
   "outputs": [
    {
     "data": {
      "text/html": [
       "<div>\n",
       "<style scoped>\n",
       "    .dataframe tbody tr th:only-of-type {\n",
       "        vertical-align: middle;\n",
       "    }\n",
       "\n",
       "    .dataframe tbody tr th {\n",
       "        vertical-align: top;\n",
       "    }\n",
       "\n",
       "    .dataframe thead th {\n",
       "        text-align: right;\n",
       "    }\n",
       "</style>\n",
       "<table border=\"1\" class=\"dataframe\">\n",
       "  <thead>\n",
       "    <tr style=\"text-align: right;\">\n",
       "      <th></th>\n",
       "      <th>Region</th>\n",
       "      <th>Gender</th>\n",
       "      <th>Married</th>\n",
       "      <th>Children</th>\n",
       "      <th>Occupation</th>\n",
       "      <th>Mode_transport</th>\n",
       "      <th>cases/1M</th>\n",
       "      <th>Deaths/1M</th>\n",
       "      <th>comorbidity</th>\n",
       "      <th>Age</th>\n",
       "      <th>Coma score</th>\n",
       "      <th>Pulmonary score</th>\n",
       "      <th>cardiological pressure</th>\n",
       "      <th>Diuresis</th>\n",
       "      <th>Platelets</th>\n",
       "      <th>HBB</th>\n",
       "      <th>d-dimer</th>\n",
       "      <th>Heart rate</th>\n",
       "      <th>HDL cholesterol</th>\n",
       "      <th>Charlson Index</th>\n",
       "      <th>Blood Glucose</th>\n",
       "      <th>Insurance</th>\n",
       "      <th>salary</th>\n",
       "      <th>FT/month</th>\n",
       "      <th>Infect_Prob</th>\n",
       "    </tr>\n",
       "  </thead>\n",
       "  <tbody>\n",
       "    <tr>\n",
       "      <th>0</th>\n",
       "      <td>Bhubaneshwar</td>\n",
       "      <td>Female</td>\n",
       "      <td>YES</td>\n",
       "      <td>1.0</td>\n",
       "      <td>Farmer</td>\n",
       "      <td>Public</td>\n",
       "      <td>2</td>\n",
       "      <td>0</td>\n",
       "      <td>Hypertension</td>\n",
       "      <td>68</td>\n",
       "      <td>8</td>\n",
       "      <td>&lt;400</td>\n",
       "      <td>Normal</td>\n",
       "      <td>441.0</td>\n",
       "      <td>154.0</td>\n",
       "      <td>93.0</td>\n",
       "      <td>233.0</td>\n",
       "      <td>82.0</td>\n",
       "      <td>58.0</td>\n",
       "      <td>27</td>\n",
       "      <td>7</td>\n",
       "      <td>3600000.0</td>\n",
       "      <td>1300000</td>\n",
       "      <td>2.0</td>\n",
       "      <td>49.135010</td>\n",
       "    </tr>\n",
       "    <tr>\n",
       "      <th>1</th>\n",
       "      <td>Bhubaneshwar</td>\n",
       "      <td>Female</td>\n",
       "      <td>YES</td>\n",
       "      <td>2.0</td>\n",
       "      <td>Farmer</td>\n",
       "      <td>Walk</td>\n",
       "      <td>2</td>\n",
       "      <td>0</td>\n",
       "      <td>Diabetes</td>\n",
       "      <td>64</td>\n",
       "      <td>15</td>\n",
       "      <td>&lt;100</td>\n",
       "      <td>Stage-02</td>\n",
       "      <td>NaN</td>\n",
       "      <td>121.0</td>\n",
       "      <td>56.0</td>\n",
       "      <td>328.0</td>\n",
       "      <td>89.0</td>\n",
       "      <td>68.0</td>\n",
       "      <td>5</td>\n",
       "      <td>6</td>\n",
       "      <td>1600000.0</td>\n",
       "      <td>400000</td>\n",
       "      <td>1.0</td>\n",
       "      <td>51.147880</td>\n",
       "    </tr>\n",
       "    <tr>\n",
       "      <th>2</th>\n",
       "      <td>Bhubaneshwar</td>\n",
       "      <td>Female</td>\n",
       "      <td>NO</td>\n",
       "      <td>1.0</td>\n",
       "      <td>Cleaner</td>\n",
       "      <td>Public</td>\n",
       "      <td>2</td>\n",
       "      <td>0</td>\n",
       "      <td>None</td>\n",
       "      <td>19</td>\n",
       "      <td>13</td>\n",
       "      <td>&lt;300</td>\n",
       "      <td>Elevated</td>\n",
       "      <td>416.0</td>\n",
       "      <td>124.0</td>\n",
       "      <td>137.0</td>\n",
       "      <td>213.0</td>\n",
       "      <td>77.0</td>\n",
       "      <td>43.0</td>\n",
       "      <td>40</td>\n",
       "      <td>6</td>\n",
       "      <td>3400000.0</td>\n",
       "      <td>900000</td>\n",
       "      <td>1.0</td>\n",
       "      <td>73.224000</td>\n",
       "    </tr>\n",
       "    <tr>\n",
       "      <th>3</th>\n",
       "      <td>Bhubaneshwar</td>\n",
       "      <td>Female</td>\n",
       "      <td>YES</td>\n",
       "      <td>1.0</td>\n",
       "      <td>Driver</td>\n",
       "      <td>Car</td>\n",
       "      <td>2</td>\n",
       "      <td>0</td>\n",
       "      <td>Coronary Heart Disease</td>\n",
       "      <td>33</td>\n",
       "      <td>9</td>\n",
       "      <td>&lt;200</td>\n",
       "      <td>Stage-01</td>\n",
       "      <td>410.0</td>\n",
       "      <td>98.0</td>\n",
       "      <td>167.0</td>\n",
       "      <td>275.0</td>\n",
       "      <td>64.0</td>\n",
       "      <td>60.0</td>\n",
       "      <td>27</td>\n",
       "      <td>7</td>\n",
       "      <td>700000.0</td>\n",
       "      <td>2300000</td>\n",
       "      <td>1.0</td>\n",
       "      <td>48.779225</td>\n",
       "    </tr>\n",
       "    <tr>\n",
       "      <th>4</th>\n",
       "      <td>Bhubaneshwar</td>\n",
       "      <td>Female</td>\n",
       "      <td>NO</td>\n",
       "      <td>2.0</td>\n",
       "      <td>Manufacturing</td>\n",
       "      <td>Car</td>\n",
       "      <td>2</td>\n",
       "      <td>0</td>\n",
       "      <td>Diabetes</td>\n",
       "      <td>23</td>\n",
       "      <td>7</td>\n",
       "      <td>&lt;400</td>\n",
       "      <td>Normal</td>\n",
       "      <td>390.0</td>\n",
       "      <td>21.0</td>\n",
       "      <td>153.0</td>\n",
       "      <td>331.0</td>\n",
       "      <td>71.0</td>\n",
       "      <td>64.0</td>\n",
       "      <td>32</td>\n",
       "      <td>7</td>\n",
       "      <td>3200000.0</td>\n",
       "      <td>1100000</td>\n",
       "      <td>1.0</td>\n",
       "      <td>87.868800</td>\n",
       "    </tr>\n",
       "  </tbody>\n",
       "</table>\n",
       "</div>"
      ],
      "text/plain": [
       "         Region  Gender Married  Children     Occupation  ... Blood Glucose  Insurance   salary FT/month  Infect_Prob\n",
       "0  Bhubaneshwar  Female     YES       1.0         Farmer  ...             7  3600000.0  1300000      2.0    49.135010\n",
       "1  Bhubaneshwar  Female     YES       2.0         Farmer  ...             6  1600000.0   400000      1.0    51.147880\n",
       "2  Bhubaneshwar  Female      NO       1.0        Cleaner  ...             6  3400000.0   900000      1.0    73.224000\n",
       "3  Bhubaneshwar  Female     YES       1.0         Driver  ...             7   700000.0  2300000      1.0    48.779225\n",
       "4  Bhubaneshwar  Female      NO       2.0  Manufacturing  ...             7  3200000.0  1100000      1.0    87.868800\n",
       "\n",
       "[5 rows x 25 columns]"
      ]
     },
     "execution_count": 238,
     "metadata": {},
     "output_type": "execute_result"
    }
   ],
   "source": [
    "train_df.head(5)"
   ]
  },
  {
   "cell_type": "markdown",
   "metadata": {},
   "source": []
  },
  {
   "cell_type": "markdown",
   "metadata": {},
   "source": []
  },
  {
   "cell_type": "code",
   "execution_count": 239,
   "metadata": {},
   "outputs": [],
   "source": [
    "train.dropna(inplace=True)"
   ]
  },
  {
   "cell_type": "code",
   "execution_count": 240,
   "metadata": {},
   "outputs": [],
   "source": [
    "test_copy = test_df.replace(\"nan\", np.nan)"
   ]
  },
  {
   "cell_type": "code",
   "execution_count": null,
   "metadata": {},
   "outputs": [],
   "source": []
  },
  {
   "cell_type": "code",
   "execution_count": null,
   "metadata": {},
   "outputs": [],
   "source": []
  },
  {
   "cell_type": "markdown",
   "metadata": {},
   "source": []
  },
  {
   "cell_type": "code",
   "execution_count": 243,
   "metadata": {},
   "outputs": [],
   "source": []
  },
  {
   "cell_type": "code",
   "execution_count": null,
   "metadata": {},
   "outputs": [],
   "source": []
  },
  {
   "cell_type": "markdown",
   "metadata": {},
   "source": []
  },
  {
   "cell_type": "code",
   "execution_count": 245,
   "metadata": {},
   "outputs": [],
   "source": []
  },
  {
   "cell_type": "code",
   "execution_count": null,
   "metadata": {},
   "outputs": [],
   "source": []
  },
  {
   "cell_type": "markdown",
   "metadata": {},
   "source": [
    "## 2.3 Handling the Missing values\n",
    "- We going to deal with the numerical missing data and categorical missing data differently"
   ]
  },
  {
   "cell_type": "code",
   "execution_count": 247,
   "metadata": {},
   "outputs": [
    {
     "name": "stdout",
     "output_type": "stream",
     "text": [
      "0\n",
      "0\n",
      "0\n",
      "311\n",
      "747\n",
      "3\n",
      "0\n",
      "0\n",
      "226\n",
      "0\n",
      "0\n",
      "0\n",
      "97\n",
      "716\n",
      "924\n",
      "16\n",
      "1114\n",
      "1114\n",
      "35\n",
      "0\n",
      "0\n",
      "1090\n",
      "0\n",
      "723\n",
      "0\n"
     ]
    }
   ],
   "source": [
    "# how many missing values each col has\n",
    "for col in train_df.columns:\n",
    "    print(train_df[col].isnull().values.sum())"
   ]
  },
  {
   "cell_type": "code",
   "execution_count": 248,
   "metadata": {},
   "outputs": [],
   "source": [
    "num_train = train_df.select_dtypes(include='number');\n",
    "cat_train = train_df.select_dtypes(exclude='number');"
   ]
  },
  {
   "cell_type": "code",
   "execution_count": 249,
   "metadata": {},
   "outputs": [],
   "source": [
    "num_test = test_df.select_dtypes(include='number');\n",
    "cat_test = test_df.select_dtypes(exclude='number');"
   ]
  },
  {
   "cell_type": "code",
   "execution_count": 250,
   "metadata": {},
   "outputs": [
    {
     "name": "stdout",
     "output_type": "stream",
     "text": [
      "True\n"
     ]
    }
   ],
   "source": [
    "print(f'{train_df.shape[1] == num_train.shape[1] + cat_train.shape[1]}')"
   ]
  },
  {
   "cell_type": "markdown",
   "metadata": {},
   "source": [
    "### 2.3.1 Numerical NaNs"
   ]
  },
  {
   "cell_type": "code",
   "execution_count": 251,
   "metadata": {},
   "outputs": [],
   "source": [
    "from sklearn.impute import SimpleImputer"
   ]
  },
  {
   "cell_type": "code",
   "execution_count": 252,
   "metadata": {},
   "outputs": [],
   "source": [
    "imputer = SimpleImputer(missing_values=np.nan, strategy='median')"
   ]
  },
  {
   "cell_type": "code",
   "execution_count": 253,
   "metadata": {},
   "outputs": [],
   "source": [
    "for col in num_train:\n",
    "    train_df[[col]] = imputer.fit_transform(train_df[[col]])"
   ]
  },
  {
   "cell_type": "markdown",
   "metadata": {},
   "source": [
    "### 2.3.2 Categorical NaNs"
   ]
  },
  {
   "cell_type": "code",
   "execution_count": 254,
   "metadata": {},
   "outputs": [],
   "source": [
    "imputer = SimpleImputer(strategy='most_frequent')"
   ]
  },
  {
   "cell_type": "code",
   "execution_count": 255,
   "metadata": {},
   "outputs": [],
   "source": [
    "for col in cat_train:\n",
    "    train_df[[col]] = imputer.fit_transform(train_df[[col]])  "
   ]
  },
  {
   "cell_type": "code",
   "execution_count": 256,
   "metadata": {},
   "outputs": [
    {
     "name": "stdout",
     "output_type": "stream",
     "text": [
      "<class 'pandas.core.frame.DataFrame'>\n",
      "RangeIndex: 10714 entries, 0 to 10713\n",
      "Data columns (total 25 columns):\n",
      "Region                    10714 non-null object\n",
      "Gender                    10714 non-null object\n",
      "Married                   10714 non-null object\n",
      "Children                  10714 non-null float64\n",
      "Occupation                10714 non-null object\n",
      "Mode_transport            10714 non-null object\n",
      "cases/1M                  10714 non-null float64\n",
      "Deaths/1M                 10714 non-null float64\n",
      "comorbidity               10714 non-null object\n",
      "Age                       10714 non-null float64\n",
      "Coma score                10714 non-null float64\n",
      "Pulmonary score           10714 non-null object\n",
      "cardiological pressure    10714 non-null object\n",
      "Diuresis                  10714 non-null float64\n",
      "Platelets                 10714 non-null float64\n",
      "HBB                       10714 non-null float64\n",
      "d-dimer                   10714 non-null float64\n",
      "Heart rate                10714 non-null float64\n",
      "HDL cholesterol           10714 non-null float64\n",
      "Charlson Index            10714 non-null float64\n",
      "Blood Glucose             10714 non-null float64\n",
      "Insurance                 10714 non-null float64\n",
      "salary                    10714 non-null float64\n",
      "FT/month                  10714 non-null float64\n",
      "Infect_Prob               10714 non-null float64\n",
      "dtypes: float64(17), object(8)\n",
      "memory usage: 2.0+ MB\n"
     ]
    }
   ],
   "source": [
    "train_df.info()"
   ]
  },
  {
   "cell_type": "code",
   "execution_count": 257,
   "metadata": {},
   "outputs": [
    {
     "name": "stdout",
     "output_type": "stream",
     "text": [
      "<class 'pandas.core.frame.DataFrame'>\n",
      "RangeIndex: 14498 entries, 0 to 14497\n",
      "Data columns (total 24 columns):\n",
      "Region                    14498 non-null object\n",
      "Gender                    14498 non-null object\n",
      "Married                   14498 non-null object\n",
      "Children                  14498 non-null int64\n",
      "Occupation                14498 non-null object\n",
      "Mode_transport            14498 non-null object\n",
      "cases/1M                  14498 non-null int64\n",
      "Deaths/1M                 14498 non-null int64\n",
      "comorbidity               14498 non-null object\n",
      "Age                       14498 non-null int64\n",
      "Coma score                14498 non-null int64\n",
      "Pulmonary score           14498 non-null object\n",
      "cardiological pressure    14498 non-null object\n",
      "Diuresis                  14498 non-null int64\n",
      "Platelets                 14498 non-null int64\n",
      "HBB                       14498 non-null int64\n",
      "d-dimer                   14498 non-null int64\n",
      "Heart rate                14498 non-null int64\n",
      "HDL cholesterol           14498 non-null int64\n",
      "Charlson Index            14498 non-null int64\n",
      "Blood Glucose             14498 non-null int64\n",
      "Insurance                 14498 non-null int64\n",
      "salary                    14498 non-null int64\n",
      "FT/month                  14498 non-null int64\n",
      "dtypes: int64(16), object(8)\n",
      "memory usage: 2.7+ MB\n"
     ]
    }
   ],
   "source": [
    "test_df.info()"
   ]
  },
  {
   "cell_type": "markdown",
   "metadata": {},
   "source": [
    "## 2.4 Pair Visualization"
   ]
  },
  {
   "cell_type": "code",
   "execution_count": 258,
   "metadata": {},
   "outputs": [],
   "source": [
    "x_vars = train_df.columns[:-1]\n",
    "y_vars = train_df.columns[-1]"
   ]
  },
  {
   "cell_type": "code",
   "execution_count": 259,
   "metadata": {},
   "outputs": [],
   "source": [
    "# this is a pretty resource consuming plot hence avoid it untill you have enough memory and processing power\n",
    "# sns.pairplot(train_df, x_vars=x_vars, y_vars=y_vars, diag_kind=\"kde\", hue='Gender');"
   ]
  },
  {
   "cell_type": "code",
   "execution_count": 260,
   "metadata": {},
   "outputs": [],
   "source": [
    "# from the above plot we can drive many conclusion such that Infect_Prob is \n",
    "# lower among Married folks similarly we can drive many conclusion"
   ]
  },
  {
   "cell_type": "markdown",
   "metadata": {},
   "source": [
    "## 2.5 Dealing with Categorical Data"
   ]
  },
  {
   "cell_type": "code",
   "execution_count": 261,
   "metadata": {},
   "outputs": [],
   "source": [
    "from sklearn.preprocessing import LabelEncoder"
   ]
  },
  {
   "cell_type": "code",
   "execution_count": 262,
   "metadata": {},
   "outputs": [],
   "source": [
    "Y = train_df.Infect_Prob\n",
    "X = train_df.drop(columns=['Infect_Prob'], axis=1)"
   ]
  },
  {
   "cell_type": "code",
   "execution_count": 263,
   "metadata": {},
   "outputs": [],
   "source": [
    "encoder = LabelEncoder()\n",
    "# encoder = ce.BackwardDifferenceEncoder(cols=[...])\n",
    "# encoder = ce.BaseNEncoder(cols=[...])\n",
    "# encoder = ce.BinaryEncoder(cols=[...])\n",
    "# encoder = ce.CatBoostEncoder(cols=[...])\n",
    "# encoder = ce.HashingEncoder(cols=[...])\n",
    "# encoder = ce.HelmertEncoder(cols=[...])\n",
    "# encoder = ce.JamesSteinEncoder(cols=[...])\n",
    "# encoder = ce.LeaveOneOutEncoder(cols=[...])\n",
    "# encoder = ce.MEstimateEncoder(cols=[...])\n",
    "# encoder = ce.OrdinalEncoder(cols=[...])\n",
    "# encoder = ce.SumEncoder(cols=[...])\n",
    "# encoder = ce.PolynomialEncoder(cols=[...])\n",
    "# encoder = ce.TargetEncoder(cols=[...])\n",
    "# encoder = ce.WOEEncoder(cols=[...])"
   ]
  },
  {
   "cell_type": "code",
   "execution_count": 264,
   "metadata": {},
   "outputs": [],
   "source": [
    "for col in cat_train:\n",
    "    X[col]  = encoder.fit_transform(X[col])\n",
    "    "
   ]
  },
  {
   "cell_type": "code",
   "execution_count": 265,
   "metadata": {},
   "outputs": [],
   "source": [
    "for col in cat_test:\n",
    "    test_df[col] = encoder.fit_transform(test_df[col])"
   ]
  },
  {
   "cell_type": "code",
   "execution_count": 266,
   "metadata": {},
   "outputs": [
    {
     "data": {
      "text/html": [
       "<div>\n",
       "<style scoped>\n",
       "    .dataframe tbody tr th:only-of-type {\n",
       "        vertical-align: middle;\n",
       "    }\n",
       "\n",
       "    .dataframe tbody tr th {\n",
       "        vertical-align: top;\n",
       "    }\n",
       "\n",
       "    .dataframe thead th {\n",
       "        text-align: right;\n",
       "    }\n",
       "</style>\n",
       "<table border=\"1\" class=\"dataframe\">\n",
       "  <thead>\n",
       "    <tr style=\"text-align: right;\">\n",
       "      <th></th>\n",
       "      <th>Region</th>\n",
       "      <th>Gender</th>\n",
       "      <th>Married</th>\n",
       "      <th>Children</th>\n",
       "      <th>Occupation</th>\n",
       "      <th>Mode_transport</th>\n",
       "      <th>cases/1M</th>\n",
       "      <th>Deaths/1M</th>\n",
       "      <th>comorbidity</th>\n",
       "      <th>Age</th>\n",
       "      <th>Coma score</th>\n",
       "      <th>Pulmonary score</th>\n",
       "      <th>cardiological pressure</th>\n",
       "      <th>Diuresis</th>\n",
       "      <th>Platelets</th>\n",
       "      <th>HBB</th>\n",
       "      <th>d-dimer</th>\n",
       "      <th>Heart rate</th>\n",
       "      <th>HDL cholesterol</th>\n",
       "      <th>Charlson Index</th>\n",
       "      <th>Blood Glucose</th>\n",
       "      <th>Insurance</th>\n",
       "      <th>salary</th>\n",
       "      <th>FT/month</th>\n",
       "    </tr>\n",
       "  </thead>\n",
       "  <tbody>\n",
       "    <tr>\n",
       "      <th>0</th>\n",
       "      <td>1</td>\n",
       "      <td>0</td>\n",
       "      <td>1</td>\n",
       "      <td>1.0</td>\n",
       "      <td>4</td>\n",
       "      <td>1</td>\n",
       "      <td>2.0</td>\n",
       "      <td>0.0</td>\n",
       "      <td>2</td>\n",
       "      <td>68.0</td>\n",
       "      <td>8.0</td>\n",
       "      <td>3</td>\n",
       "      <td>1</td>\n",
       "      <td>441.0</td>\n",
       "      <td>154.0</td>\n",
       "      <td>93.0</td>\n",
       "      <td>233.0</td>\n",
       "      <td>82.0</td>\n",
       "      <td>58.0</td>\n",
       "      <td>27.0</td>\n",
       "      <td>7.0</td>\n",
       "      <td>3600000.0</td>\n",
       "      <td>1300000.0</td>\n",
       "      <td>2.0</td>\n",
       "    </tr>\n",
       "    <tr>\n",
       "      <th>1</th>\n",
       "      <td>1</td>\n",
       "      <td>0</td>\n",
       "      <td>1</td>\n",
       "      <td>2.0</td>\n",
       "      <td>4</td>\n",
       "      <td>2</td>\n",
       "      <td>2.0</td>\n",
       "      <td>0.0</td>\n",
       "      <td>1</td>\n",
       "      <td>64.0</td>\n",
       "      <td>15.0</td>\n",
       "      <td>0</td>\n",
       "      <td>3</td>\n",
       "      <td>276.0</td>\n",
       "      <td>121.0</td>\n",
       "      <td>56.0</td>\n",
       "      <td>328.0</td>\n",
       "      <td>89.0</td>\n",
       "      <td>68.0</td>\n",
       "      <td>5.0</td>\n",
       "      <td>6.0</td>\n",
       "      <td>1600000.0</td>\n",
       "      <td>400000.0</td>\n",
       "      <td>1.0</td>\n",
       "    </tr>\n",
       "    <tr>\n",
       "      <th>2</th>\n",
       "      <td>1</td>\n",
       "      <td>0</td>\n",
       "      <td>0</td>\n",
       "      <td>1.0</td>\n",
       "      <td>1</td>\n",
       "      <td>1</td>\n",
       "      <td>2.0</td>\n",
       "      <td>0.0</td>\n",
       "      <td>3</td>\n",
       "      <td>19.0</td>\n",
       "      <td>13.0</td>\n",
       "      <td>2</td>\n",
       "      <td>0</td>\n",
       "      <td>416.0</td>\n",
       "      <td>124.0</td>\n",
       "      <td>137.0</td>\n",
       "      <td>213.0</td>\n",
       "      <td>77.0</td>\n",
       "      <td>43.0</td>\n",
       "      <td>40.0</td>\n",
       "      <td>6.0</td>\n",
       "      <td>3400000.0</td>\n",
       "      <td>900000.0</td>\n",
       "      <td>1.0</td>\n",
       "    </tr>\n",
       "    <tr>\n",
       "      <th>3</th>\n",
       "      <td>1</td>\n",
       "      <td>0</td>\n",
       "      <td>1</td>\n",
       "      <td>1.0</td>\n",
       "      <td>3</td>\n",
       "      <td>0</td>\n",
       "      <td>2.0</td>\n",
       "      <td>0.0</td>\n",
       "      <td>0</td>\n",
       "      <td>33.0</td>\n",
       "      <td>9.0</td>\n",
       "      <td>1</td>\n",
       "      <td>2</td>\n",
       "      <td>410.0</td>\n",
       "      <td>98.0</td>\n",
       "      <td>167.0</td>\n",
       "      <td>275.0</td>\n",
       "      <td>64.0</td>\n",
       "      <td>60.0</td>\n",
       "      <td>27.0</td>\n",
       "      <td>7.0</td>\n",
       "      <td>700000.0</td>\n",
       "      <td>2300000.0</td>\n",
       "      <td>1.0</td>\n",
       "    </tr>\n",
       "    <tr>\n",
       "      <th>4</th>\n",
       "      <td>1</td>\n",
       "      <td>0</td>\n",
       "      <td>0</td>\n",
       "      <td>2.0</td>\n",
       "      <td>6</td>\n",
       "      <td>0</td>\n",
       "      <td>2.0</td>\n",
       "      <td>0.0</td>\n",
       "      <td>1</td>\n",
       "      <td>23.0</td>\n",
       "      <td>7.0</td>\n",
       "      <td>3</td>\n",
       "      <td>1</td>\n",
       "      <td>390.0</td>\n",
       "      <td>21.0</td>\n",
       "      <td>153.0</td>\n",
       "      <td>331.0</td>\n",
       "      <td>71.0</td>\n",
       "      <td>64.0</td>\n",
       "      <td>32.0</td>\n",
       "      <td>7.0</td>\n",
       "      <td>3200000.0</td>\n",
       "      <td>1100000.0</td>\n",
       "      <td>1.0</td>\n",
       "    </tr>\n",
       "  </tbody>\n",
       "</table>\n",
       "</div>"
      ],
      "text/plain": [
       "   Region  Gender  Married  Children  Occupation  ...  Charlson Index  Blood Glucose  Insurance     salary  FT/month\n",
       "0       1       0        1       1.0           4  ...            27.0            7.0  3600000.0  1300000.0       2.0\n",
       "1       1       0        1       2.0           4  ...             5.0            6.0  1600000.0   400000.0       1.0\n",
       "2       1       0        0       1.0           1  ...            40.0            6.0  3400000.0   900000.0       1.0\n",
       "3       1       0        1       1.0           3  ...            27.0            7.0   700000.0  2300000.0       1.0\n",
       "4       1       0        0       2.0           6  ...            32.0            7.0  3200000.0  1100000.0       1.0\n",
       "\n",
       "[5 rows x 24 columns]"
      ]
     },
     "execution_count": 266,
     "metadata": {},
     "output_type": "execute_result"
    }
   ],
   "source": [
    "X.head()"
   ]
  },
  {
   "cell_type": "code",
   "execution_count": 267,
   "metadata": {},
   "outputs": [
    {
     "data": {
      "text/plain": [
       "0        1\n",
       "1        1\n",
       "2        0\n",
       "3        2\n",
       "4        1\n",
       "        ..\n",
       "14493    3\n",
       "14494    2\n",
       "14495    2\n",
       "14496    1\n",
       "14497    1\n",
       "Name: Pulmonary score, Length: 14498, dtype: int32"
      ]
     },
     "execution_count": 267,
     "metadata": {},
     "output_type": "execute_result"
    }
   ],
   "source": [
    "test_df['Pulmonary score']"
   ]
  },
  {
   "cell_type": "code",
   "execution_count": 268,
   "metadata": {},
   "outputs": [],
   "source": [
    "x_vars = X.columns[:-1]\n",
    "y_vars = X.columns[-1]"
   ]
  },
  {
   "cell_type": "markdown",
   "metadata": {},
   "source": [
    "# 2. Data Pipeline"
   ]
  },
  {
   "cell_type": "code",
   "execution_count": 269,
   "metadata": {},
   "outputs": [],
   "source": [
    "from sklearn.model_selection import train_test_split\n",
    "from sklearn import preprocessing"
   ]
  },
  {
   "cell_type": "code",
   "execution_count": 200,
   "metadata": {},
   "outputs": [],
   "source": [
    "X = preprocessing.normalize(X, axis=1)"
   ]
  },
  {
   "cell_type": "code",
   "execution_count": 270,
   "metadata": {},
   "outputs": [],
   "source": [
    "X_train, X_val, Y_train, Y_val = train_test_split(X_normalized,  Y.values, test_size=0.1, random_state=42)"
   ]
  },
  {
   "cell_type": "code",
   "execution_count": 271,
   "metadata": {},
   "outputs": [
    {
     "name": "stdout",
     "output_type": "stream",
     "text": [
      "(9642, 24) (1072, 24) (9642,) (1072,)\n"
     ]
    }
   ],
   "source": [
    "print(X_train.shape, X_val.shape, Y_train.shape, Y_val.shape)"
   ]
  },
  {
   "cell_type": "code",
   "execution_count": null,
   "metadata": {},
   "outputs": [],
   "source": []
  },
  {
   "cell_type": "code",
   "execution_count": 204,
   "metadata": {},
   "outputs": [],
   "source": [
    "# preprocessing.axis([[10, 2, 30]], axis=0)"
   ]
  },
  {
   "cell_type": "markdown",
   "metadata": {},
   "source": [
    "# 3. Models and Training"
   ]
  },
  {
   "cell_type": "code",
   "execution_count": 122,
   "metadata": {},
   "outputs": [],
   "source": [
    "def dnn():\n",
    "    model  = Sequential()\n",
    "    model.add(Dense(256,activation='relu'))\n",
    "    model.add(Dense(128,activation='relu'))\n",
    "    model.add(Dense(64,activation='relu'))\n",
    "    model.add(Dense(32,activation='relu'))\n",
    "    model.add(Dense(16,activation='relu'))\n",
    "    model.add(Dense(8,activation='relu'))\n",
    "    model.add(Dense(1))\n",
    "    \n",
    "    model.compile(optimizer='adam',loss='mse',metrics=[r2_score])\n",
    "    return model\n",
    "    "
   ]
  },
  {
   "cell_type": "code",
   "execution_count": 125,
   "metadata": {},
   "outputs": [],
   "source": [
    "model = dnn()"
   ]
  },
  {
   "cell_type": "code",
   "execution_count": 128,
   "metadata": {},
   "outputs": [],
   "source": [
    "# traing \n",
    "# history = model.fit(X_train,Y_train,epochs=50,validation_data=(X_val,Y_val),verbose=1)"
   ]
  },
  {
   "cell_type": "code",
   "execution_count": 61,
   "metadata": {},
   "outputs": [],
   "source": [
    "val_loss = history.history['val_loss']\n",
    "train_loss = history.history['loss']"
   ]
  },
  {
   "cell_type": "code",
   "execution_count": 65,
   "metadata": {},
   "outputs": [
    {
     "data": {
      "image/png": "[encoded data removed]",
      "text/plain": [
       "<Figure size 432x288 with 1 Axes>"
      ]
     },
     "metadata": {
      "needs_background": "light"
     },
     "output_type": "display_data"
    }
   ],
   "source": [
    "plt.plot(val_loss, label=\"val_loss\")\n",
    "plt.show()"
   ]
  },
  {
   "cell_type": "code",
   "execution_count": 272,
   "metadata": {},
   "outputs": [],
   "source": [
    "def r2_score(y_true,y_pred):\n",
    "    num = K.sum(K.square(y_true-y_pred))\n",
    "    denom = K.sum(K.square(y_true- K.mean(y_true)))\n",
    "    return (1-num/denom)"
   ]
  },
  {
   "cell_type": "code",
   "execution_count": 129,
   "metadata": {},
   "outputs": [
    {
     "data": {
      "text/plain": [
       "array([47.30837595, 48.97426018, 47.28339403, 46.97029262, 97.632     ,\n",
       "       45.27885255, 49.24589749, 41.98176   , 46.3032033 , 45.88704   ])"
      ]
     },
     "execution_count": 129,
     "metadata": {},
     "output_type": "execute_result"
    }
   ],
   "source": [
    "Y_val[:10]"
   ]
  },
  {
   "cell_type": "markdown",
   "metadata": {},
   "source": [
    "### Boosting Models"
   ]
  },
  {
   "cell_type": "code",
   "execution_count": 273,
   "metadata": {},
   "outputs": [],
   "source": [
    "from sklearn.ensemble import GradientBoostingRegressor\n",
    "from sklearn.ensemble import AdaBoostRegressor"
   ]
  },
  {
   "cell_type": "code",
   "execution_count": 274,
   "metadata": {},
   "outputs": [],
   "source": [
    "grad_boost = GradientBoostingRegressor(\n",
    "                n_estimators=100, \n",
    "                learning_rate=0.1, \n",
    "                max_depth=10, \n",
    "                random_state=12, \n",
    "                loss='ls').fit(X_train, Y_train)"
   ]
  },
  {
   "cell_type": "code",
   "execution_count": 275,
   "metadata": {},
   "outputs": [],
   "source": [
    "ada_boost = AdaBoostRegressor(random_state=10, n_estimators=100).fit(X_train, Y_train)"
   ]
  },
  {
   "cell_type": "code",
   "execution_count": 276,
   "metadata": {},
   "outputs": [
    {
     "name": "stdout",
     "output_type": "stream",
     "text": [
      "Training score:\n",
      " grad_boost_r2score = 0.9740469985434376 \n",
      " ada_boost_r2score = 0.2968799022532723\n",
      "Validation score:\n",
      " grad_boost_r2score = 0.11144791356507633 \n",
      " ada_boost_r2score = 0.2508984810674758\n"
     ]
    }
   ],
   "source": [
    "print(f'Training score:\\n grad_boost_r2score = {grad_boost.score(X_train, Y_train)} \\n ada_boost_r2score = {ada_boost.score(X_train, Y_train)}')\n",
    "print(f'Validation score:\\n grad_boost_r2score = {grad_boost.score(X_val, Y_val)} \\n ada_boost_r2score = {ada_boost.score(X_val, Y_val)}')"
   ]
  },
  {
   "cell_type": "code",
   "execution_count": 277,
   "metadata": {},
   "outputs": [
    {
     "data": {
      "text/plain": [
       "[50.016447455309496,\n",
       " 62.66938943652486,\n",
       " 46.884013460057304,\n",
       " 67.24045427182362,\n",
       " 55.02931685966792,\n",
       " 48.59913303912107,\n",
       " 48.01882658730895,\n",
       " 48.319663521898654,\n",
       " 47.023583845138546,\n",
       " 48.7828814127857]"
      ]
     },
     "execution_count": 277,
     "metadata": {},
     "output_type": "execute_result"
    }
   ],
   "source": [
    "list(grad_boost.predict(X_val)[100:110])"
   ]
  },
  {
   "cell_type": "code",
   "execution_count": 280,
   "metadata": {},
   "outputs": [
    {
     "data": {
      "text/plain": [
       "[49.129201692019606,\n",
       " 65.136816,\n",
       " 46.90841046764448,\n",
       " 65.136816,\n",
       " 55.88024090526858,\n",
       " 49.129201692019606,\n",
       " 49.129201692019606,\n",
       " 49.129201692019606,\n",
       " 46.90841046764448,\n",
       " 49.129201692019606]"
      ]
     },
     "execution_count": 280,
     "metadata": {},
     "output_type": "execute_result"
    }
   ],
   "source": [
    "list(ada_boost.predict(X_test)[100:110])"
   ]
  },
  {
   "cell_type": "code",
   "execution_count": 278,
   "metadata": {},
   "outputs": [
    {
     "data": {
      "text/plain": [
       "[49.3814598,\n",
       " 38.07648,\n",
       " 46.37133441,\n",
       " 93.72672,\n",
       " 52.35127748,\n",
       " 49.9163627,\n",
       " 48.35860012,\n",
       " 48.30335398,\n",
       " 46.6405469,\n",
       " 49.70742401]"
      ]
     },
     "execution_count": 278,
     "metadata": {},
     "output_type": "execute_result"
    }
   ],
   "source": [
    "list(Y_val[100:110])"
   ]
  },
  {
   "cell_type": "markdown",
   "metadata": {},
   "source": [
    "### Conclusion: Gradient Boosting Regressor perfroms better"
   ]
  },
  {
   "cell_type": "markdown",
   "metadata": {},
   "source": [
    "### Inference"
   ]
  },
  {
   "cell_type": "code",
   "execution_count": 281,
   "metadata": {},
   "outputs": [],
   "source": [
    "preds = grad_boost.predict(test_df.values)"
   ]
  },
  {
   "cell_type": "code",
   "execution_count": 282,
   "metadata": {},
   "outputs": [],
   "source": [
    "preds_df = pd.DataFrame(data=preds, columns=['Infect_prob'])"
   ]
  },
  {
   "cell_type": "code",
   "execution_count": 283,
   "metadata": {},
   "outputs": [],
   "source": [
    "result = pd.concat([people_ID, preds_df], axis=1)"
   ]
  },
  {
   "cell_type": "code",
   "execution_count": 284,
   "metadata": {},
   "outputs": [],
   "source": [
    "result.to_csv('infect_prob.csv', index=False)"
   ]
  },
  {
   "cell_type": "markdown",
   "metadata": {},
   "source": [
    "### What could be done to improve the result\n",
    "- More Feature Engineering\n",
    "    - From the dendrogram we can see that some features have very little to no impact(zero correlation) on dependent variable Infect_prob one can do the manuever by removing them and training the models again\n",
    "    - Another good practice for such task is eliminating the outliers\n",
    "- More Models\n",
    "    - We can fit more models and see the results\n",
    "- Preprocessing\n",
    "    - We could use grid search to find best strategy for imputation and Categorical Data Encoder(listed in cell)\n",
    "    "
   ]
  },
  {
   "cell_type": "code",
   "execution_count": null,
   "metadata": {},
   "outputs": [],
   "source": []
  }
 ],
 "metadata": {
  "kernelspec": {
   "display_name": "Python 3",
   "language": "python",
   "name": "python3"
  },
  "language_info": {
   "codemirror_mode": {
    "name": "ipython",
    "version": 3
   },
   "file_extension": ".py",
   "mimetype": "text/x-python",
   "name": "python",
   "nbconvert_exporter": "python",
   "pygments_lexer": "ipython3",
   "version": "3.6.5"
  }
 },
 "nbformat": 4,
 "nbformat_minor": 4
}
